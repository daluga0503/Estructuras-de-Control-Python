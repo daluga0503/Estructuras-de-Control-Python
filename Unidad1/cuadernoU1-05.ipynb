{
 "cells": [
  {
   "cell_type": "markdown",
   "id": "327585fee6119dc0",
   "metadata": {},
   "source": [
    "# 5. Constantes. Operadores. Conversión de tipos"
   ]
  },
  {
   "cell_type": "markdown",
   "id": "f065dc6362bca78a",
   "metadata": {},
   "source": [
    "## 5.1 Constantes\n",
    "En Python, no hay soporte nativo para las constantes, pero se pueden definir por convención con nombres en mayúsculas:"
   ]
  },
  {
   "cell_type": "code",
   "execution_count": 1,
   "id": "3cbb1cc5c9f002cc",
   "metadata": {},
   "outputs": [],
   "source": [
    "PI = 3.14159\n",
    "VELOCIDAD_LUZ = 299_792_458  # Esta forma de escribir esta cifra grande mejora la legibilidad\n",
    "MAX_INTENTS = 5"
   ]
  },
  {
   "cell_type": "markdown",
   "id": "62a1d9151fd72901",
   "metadata": {},
   "source": [
    "Python no impide modificar estas constantes:"
   ]
  },
  {
   "cell_type": "code",
   "execution_count": 2,
   "id": "6857e53080d65144",
   "metadata": {},
   "outputs": [],
   "source": [
    "PI = 3 # Está permitido, pero no está recomendado"
   ]
  },
  {
   "cell_type": "markdown",
   "id": "99f374bcc8fe195d",
   "metadata": {},
   "source": [
    "También puedes colocarlos en un módulo separado llamado, por ejemplo, 'constantes.py':"
   ]
  },
  {
   "cell_type": "code",
   "execution_count": 3,
   "id": "c0d6fb4bb19fee56",
   "metadata": {},
   "outputs": [],
   "source": [
    "# constantes.py\n",
    "PI = 3.14159\n",
    "G = 9.81"
   ]
  },
  {
   "cell_type": "markdown",
   "id": "413198948ae93ae4",
   "metadata": {},
   "source": [
    "...e importarlos desde el archivo principal:"
   ]
  },
  {
   "cell_type": "code",
   "execution_count": 4,
   "id": "a3db52a396e0932",
   "metadata": {},
   "outputs": [
    {
     "ename": "ModuleNotFoundError",
     "evalue": "No module named 'constantes'",
     "output_type": "error",
     "traceback": [
      "\u001b[31m---------------------------------------------------------------------------\u001b[39m",
      "\u001b[31mModuleNotFoundError\u001b[39m                       Traceback (most recent call last)",
      "\u001b[36mCell\u001b[39m\u001b[36m \u001b[39m\u001b[32mIn[4]\u001b[39m\u001b[32m, line 1\u001b[39m\n\u001b[32m----> \u001b[39m\u001b[32m1\u001b[39m \u001b[38;5;28;01mimport\u001b[39;00m\u001b[38;5;250m \u001b[39m\u001b[34;01mconstantes\u001b[39;00m\n\u001b[32m      2\u001b[39m \u001b[38;5;28mprint\u001b[39m(constants.PI)\n",
      "\u001b[31mModuleNotFoundError\u001b[39m: No module named 'constantes'"
     ]
    }
   ],
   "source": [
    "import constantes\n",
    "print(constants.PI)"
   ]
  },
  {
   "cell_type": "markdown",
   "id": "d298484ab019fa5f",
   "metadata": {},
   "source": [
    "#### Inmutabilidad en Python\n",
    "\n",
    "En Python, la inmutabilidad significa que un objeto no puede ser modificado después de que se crea.\n",
    "No es el mismo concepto que CONSTANT.\n",
    "\n",
    "Se verá un poco más adelante para las cadenas de caracteres."
   ]
  },
  {
   "cell_type": "markdown",
   "id": "66c605de6e1abecb",
   "metadata": {},
   "source": [
    "## 5.2 Operadores en Python\n",
    "### ¿Qué es un literal?\n",
    "Un literal es un valor escrito directamente en el código. Ejemplos:"
   ]
  },
  {
   "cell_type": "code",
   "execution_count": null,
   "id": "106c78c4bbaa1c2",
   "metadata": {},
   "outputs": [],
   "source": [
    "42\n",
    "\"Hola\"\n",
    "3.14\n",
    "True\n",
    "[1, 2, 3]"
   ]
  },
  {
   "cell_type": "markdown",
   "id": "13a888269fc404f3",
   "metadata": {},
   "source": [
    "###  ¿Qué es una expresión?\n",
    "\n",
    "Una expresión es cualquier combinación de literales, variables y operadores que devuelve un valor:"
   ]
  },
  {
   "cell_type": "code",
   "execution_count": null,
   "id": "10e5cb5220f078f8",
   "metadata": {},
   "outputs": [],
   "source": [
    "5 + 3\n",
    "nombre + \" está aquí\"\n",
    "len([1, 2, 3])\n",
    "a * b - c"
   ]
  },
  {
   "cell_type": "markdown",
   "id": "9f577e4a56bcaa18",
   "metadata": {},
   "source": [
    "### Operadores aritméticos\n",
    "Los operadores aritméticos permiten realizar operaciones matemáticas básicas."
   ]
  },
  {
   "cell_type": "code",
   "execution_count": null,
   "id": "e631f5da797fbd2f",
   "metadata": {},
   "outputs": [],
   "source": [
    "suma = 10 + 5              # 15\n",
    "resta = 10 - 5             # 5\n",
    "multiplicación = 10 * 5    # 50\n",
    "división = 10 / 5          # 2.0  NO ENTERO, decimal o float\n",
    "división_entera = 10 // 3  # 3 (enter)\n",
    "módulo_división = 10 % 3   # 1 (resto de la división)\n",
    "potencia = 2 ** 3          # 8 (2 elevado a 3) int\n",
    "potencia = 2 ** -3         # 0,125 (2 elevado a -3) float\n",
    "potencia = 2.2 ** 3        # 10.64800  float\n",
    "potencia = 64 ** 0.5       # 8.0 (raíz cuadrada) float"
   ]
  },
  {
   "cell_type": "markdown",
   "id": "ef038d489ccb292c",
   "metadata": {},
   "source": [
    "### Precedencia de los operadores\n",
    "Ejemplos:"
   ]
  },
  {
   "cell_type": "code",
   "execution_count": null,
   "id": "947422de103f1058",
   "metadata": {},
   "outputs": [],
   "source": [
    "resultado = 3 + 4 * 2         #  11\n",
    "resultado = (3 + 4) * 2       #  14\n",
    "resultado = 2 ** 3 ** 2       #  512\n",
    "resultado = (2 ** 3) ** 2     #  64\n",
    "resultado = -3 ** 2           # -(3 ** 2) = -9\n",
    "resultado = (-3) ** 2         # (-3) ** 2 = 9"
   ]
  },
  {
   "cell_type": "markdown",
   "id": "b222c509c2ff768a",
   "metadata": {},
   "source": [
    "### Operadores de asignación\n",
    "Los operadores de comparación se utilizan para comparar dos valores."
   ]
  },
  {
   "cell_type": "code",
   "execution_count": null,
   "id": "7fecfc08ffae53a6",
   "metadata": {},
   "outputs": [],
   "source": [
    "5 == 5    # True (igual)     ¡¡ el '==' no es lo mismo que el '=' !!\n",
    "5 != 3    # True (diferente)\n",
    "5 < 10    # True (menor que)\n",
    "5 > 10    # False (mayor que)\n",
    "5 <= 10   # True (menor o igual que)\n",
    "5 >= 10   # False (mayor o igual que)"
   ]
  },
  {
   "cell_type": "markdown",
   "id": "371354ecdb90999a",
   "metadata": {},
   "source": [
    "En Python, el operador '<>' fue utilizado como operador de desigualdad (como '!=') en versiones anteriores de Python (como Python 2).\n",
    "El uso de '<>' ya no es válido y, si lo empleamos, obtendremos un error de sintaxis. Para comparar las desigualdades, solo se usa '!='."
   ]
  },
  {
   "cell_type": "markdown",
   "id": "d9742c4b53269bcd",
   "metadata": {},
   "source": [
    "### Operadores Lógicos\n",
    "Los operadores de lógica se utilizan para combinar expresiones booleanas:"
   ]
  },
  {
   "cell_type": "code",
   "execution_count": null,
   "id": "94596d17e827f2b8",
   "metadata": {},
   "outputs": [],
   "source": [
    "True and False   # False\n",
    "True or False    # True\n",
    "not True         # False"
   ]
  },
  {
   "cell_type": "markdown",
   "id": "648a7af4c197ee8f",
   "metadata": {},
   "source": [
    "La precedencia para estos operadores viene establecida por este orden: 'not', 'and', 'or'."
   ]
  },
  {
   "cell_type": "markdown",
   "id": "a0bd9c28687cf60e",
   "metadata": {},
   "source": [
    "### Operadores de identidad\n",
    "Los operadores de identidad comprueban si dos variables se refieren al mismo objeto de memoria:"
   ]
  },
  {
   "cell_type": "code",
   "execution_count": null,
   "id": "90488d9ffc914ced",
   "metadata": {},
   "outputs": [],
   "source": [
    "a = 5\n",
    "b = a\n",
    "a is b"
   ]
  },
  {
   "cell_type": "code",
   "execution_count": null,
   "id": "3e8250631f8b7400",
   "metadata": {},
   "outputs": [],
   "source": [
    "a is not b"
   ]
  },
  {
   "cell_type": "markdown",
   "id": "c81ee3f27e9188bb",
   "metadata": {},
   "source": [
    "### Operadores de pertenencia o membresía\n",
    "Los operadores de membresía se utilizan para comprobar si un elemento está presente en una colección, como una cadena, lista, etc."
   ]
  },
  {
   "cell_type": "code",
   "execution_count": null,
   "id": "2352c05f687fb09c",
   "metadata": {},
   "outputs": [],
   "source": [
    "'a' in 'hola'      # True"
   ]
  },
  {
   "cell_type": "code",
   "execution_count": null,
   "id": "c630fbda70cb7a29",
   "metadata": {},
   "outputs": [],
   "source": [
    "'a' not in 'hola'  # False"
   ]
  },
  {
   "cell_type": "markdown",
   "id": "21dc300979f44f25",
   "metadata": {},
   "source": [
    "### Operadores a nivel de bits (bitwise)\n",
    "Los operadores bitwise operan en los bits individuales de las variables:"
   ]
  },
  {
   "cell_type": "code",
   "execution_count": null,
   "id": "5d6225dd32fafae2",
   "metadata": {},
   "outputs": [],
   "source": [
    "5  &  3   # AND bit a bit\n",
    "5 | 3     # OR bit a bit\n",
    "~ 3       # NOT bit a bit\n",
    "5 ^ 3     # XOR bit a bit\n",
    "5 << 3    # desplazamiento a la izquierda bit a bit (tres posiciones)\n",
    "5 >> 3    # desplazamiento a la derecha bit a bit (tres posiciones)"
   ]
  },
  {
   "cell_type": "markdown",
   "id": "eff81529a3d56a48",
   "metadata": {},
   "source": [
    "### Problemas de precisión con los números decimales\n",
    "Debido a la representación interna de los números decimales, se pueden obtener resultados inexactos en algunas operaciones:"
   ]
  },
  {
   "cell_type": "code",
   "execution_count": null,
   "id": "15bb78b94cea0d15",
   "metadata": {},
   "outputs": [],
   "source": [
    "a = 0.1\n",
    "b = 0.2\n",
    "print(a + b)    # 0.30000000000000004"
   ]
  },
  {
   "cell_type": "markdown",
   "id": "2c11cff2e7cd90ee",
   "metadata": {},
   "source": [
    "En general, cualquier fracción que en base 10 esté \"limpia\" (como 0.1 o 0.2) puede ser problemática, porque en base 2 son fracciones periódicas infinitas, y Python las trunca para aproximarlas.\n",
    "\n",
    "Este problema no se produce en todas las operaciones, pero es importante tenerlo en cuenta. Para comparar estos valores con precisión, puedes utilizar 'math.isclose()':"
   ]
  },
  {
   "cell_type": "code",
   "execution_count": null,
   "id": "5b0ad46a755c0b55",
   "metadata": {},
   "outputs": [],
   "source": [
    "import math\n",
    "math.isclose(0.1 + 0.2, 0.3)  # True"
   ]
  },
  {
   "cell_type": "markdown",
   "id": "1550f4d82d12bec5",
   "metadata": {},
   "source": [
    "O simplemente emplear 'round()':"
   ]
  },
  {
   "cell_type": "code",
   "execution_count": null,
   "id": "24f1f062d226b2e",
   "metadata": {},
   "outputs": [
    {
     "name": "stdout",
     "output_type": "stream",
     "text": [
      "0.3\n"
     ]
    }
   ],
   "source": [
    "print (round(0.1 + 0.2, 2))  # Redondea el resultado de la suma a las centésimas"
   ]
  },
  {
   "cell_type": "markdown",
   "id": "6830f606756cf43d",
   "metadata": {},
   "source": [
    "## 5.2 Operadores sobre Strings en Python\n",
    "### Definir Strings\n",
    "Ya vimos que se pueden definir cadenas de texto utilizando comillas simples ('), dobles (\") o triples (''' o \"\"\"):"
   ]
  },
  {
   "cell_type": "code",
   "execution_count": null,
   "id": "74be69057eefca",
   "metadata": {},
   "outputs": [],
   "source": [
    "s = 'Hola'\n",
    "s2 = \"Mundo\"\n",
    "s3 = ''' Hola mundo, con\n",
    "más de una línea '''"
   ]
  },
  {
   "cell_type": "code",
   "execution_count": null,
   "id": "188ca1ad",
   "metadata": {},
   "outputs": [],
   "source": []
  },
  {
   "cell_type": "markdown",
   "id": "4a4f196ab36b48fd",
   "metadata": {},
   "source": [
    "### Concatenación de Strings\n",
    "La concatenación permite que dos o más cadenas de texto se unan entre sí:"
   ]
  },
  {
   "cell_type": "code",
   "execution_count": null,
   "id": "703d9fff7a0c1f1a",
   "metadata": {},
   "outputs": [],
   "source": [
    "saludo = \"Hola\" + \" \" + \"mundo\"\n",
    "print(saludo)  # Hola mundo"
   ]
  },
  {
   "cell_type": "markdown",
   "id": "6334386c80854ab0",
   "metadata": {},
   "source": [
    "### Repetición de Strings\n",
    "La repetición de una cadena puede conseguirse con el operador de multiplicación."
   ]
  },
  {
   "cell_type": "code",
   "execution_count": 12,
   "id": "430e864fa107c002",
   "metadata": {},
   "outputs": [
    {
     "name": "stdout",
     "output_type": "stream",
     "text": [
      "HolaHolaHola\n"
     ]
    }
   ],
   "source": [
    "print(\"Hola\" * 3)  # HolaHolaHola"
   ]
  },
  {
   "cell_type": "markdown",
   "id": "e9c5338ca2375672",
   "metadata": {},
   "source": [
    "### Comparación de cadenas\n",
    "Las cadenas se pueden comparar con estos operadores (distinguen las mayúsculas de las minúsculas):"
   ]
  },
  {
   "cell_type": "code",
   "execution_count": null,
   "id": "aee1f51dc20e72a2",
   "metadata": {},
   "outputs": [],
   "source": [
    "print(\"Hola\" == \"hola\")  # False (distinción de mayúsculas/minúsculas)\n",
    "print(\"a\" < \"b\")         # True (orden alfabético)  También se puede hacer con '>' o '!='"
   ]
  },
  {
   "cell_type": "markdown",
   "id": "66c64eb7bf4e75d",
   "metadata": {},
   "source": [
    "### Longitud de las cadenas\n",
    "Las cadenas tienen una longitud, y puede ser muy útil conocerla:"
   ]
  },
  {
   "cell_type": "code",
   "execution_count": null,
   "id": "82c37a0bfdbc7930",
   "metadata": {},
   "outputs": [],
   "source": [
    "cadena = 'Hola Python'\n",
    "x = len(cadena)\n",
    "print ( f\"La cadena tiene una longitud de {x} caracteres \")"
   ]
  },
  {
   "cell_type": "markdown",
   "id": "557323580c471bd4",
   "metadata": {},
   "source": [
    "### Acceso por índice\n",
    "Puedes acceder a caracteres individuales de una cadena usando su índice. Recuerda que el índice comienza desde 0. También puede indicar el final con un -1 (último carácter):"
   ]
  },
  {
   "cell_type": "code",
   "execution_count": null,
   "id": "54ad0969fff98b18",
   "metadata": {},
   "outputs": [],
   "source": [
    "texto = \"Python\"\n",
    "print(texto[0])  # P\n",
    "print(texto[-1])  # n (último carácter)"
   ]
  },
  {
   "cell_type": "markdown",
   "id": "5e2225fa6da47b54",
   "metadata": {},
   "source": [
    "Pero no es posible hacer asignaciones sobre caracteres individuales:"
   ]
  },
  {
   "cell_type": "code",
   "execution_count": null,
   "id": "55da7d9f79ce74e5",
   "metadata": {},
   "outputs": [],
   "source": [
    "texto[0]=\"p\"  # Da error"
   ]
  },
  {
   "cell_type": "markdown",
   "id": "42dc4bcda7d27976",
   "metadata": {},
   "source": [
    "### Acceso por Slicing (rodajas)\n",
    "Las 'rodajas' permiten extraer subcadenas utilizando un rango de índices:"
   ]
  },
  {
   "cell_type": "code",
   "execution_count": null,
   "id": "482487f88671e6a7",
   "metadata": {},
   "outputs": [],
   "source": [
    "print(texto[0:4])  # Pyth (índices de 0 a 3)\n",
    "print(texto[::2])  # Pto (caracteres del 0 al 5 de 2 en 2)\n",
    "print(texto[1:4:2])  # yh (caracteres 1 al 3 de 2 en 2)\n",
    "print(texto[:3])  # Hol (desde el principio hasta finalizar en el índice 2)\n",
    "print(texto[2:])  # thon (desde el índice 2 hasta el final)\n",
    "print(texto[:-2])  # Pyth (desde el principio hasta finalizar en el índice -3)\n",
    "print(texto[-3:])  # hon (desde -3 hasta el final)"
   ]
  },
  {
   "cell_type": "markdown",
   "id": "dbebdb1ad6e3a27b",
   "metadata": {},
   "source": [
    "### Iteraciones en Strings\n",
    "Podemos recorrer una cadena carácter a carácter usando un bucle 'for'.\n",
    "\n",
    "Ejemplo simple:"
   ]
  },
  {
   "cell_type": "code",
   "execution_count": null,
   "id": "4cae5e8d4eb42ac0",
   "metadata": {},
   "outputs": [],
   "source": [
    "texto = \"Python\"\n",
    "for letra in texto:\n",
    "    print(letra)"
   ]
  },
  {
   "cell_type": "markdown",
   "id": "8efe6aaeebfb86c1",
   "metadata": {},
   "source": [
    "Ejemplo animado:"
   ]
  },
  {
   "cell_type": "code",
   "execution_count": 3,
   "id": "8cd0d2f0c2c706fd",
   "metadata": {},
   "outputs": [
    {
     "name": "stdout",
     "output_type": "stream",
     "text": [
      "¡Hola a todos! Estoy escribiendo código en Python.\n"
     ]
    }
   ],
   "source": [
    "import time\n",
    "\n",
    "def escribe_palabra (palabra, retardo = 0.3):\n",
    "    for letra in palabra:\n",
    "        print(letra, end = \"\", flush = True)\n",
    "        time.sleep(retardo)\n",
    "    print()  # Salto de línea al final\n",
    "\n",
    "# Ejemplo de uso\n",
    "escribe_palabra(\"¡Hola a todos! Estoy escribiendo código en Python.\", 0.1)"
   ]
  },
  {
   "cell_type": "markdown",
   "id": "67fb42aad06d7251",
   "metadata": {},
   "source": [
    "### Inmutabilidad de las cadenas\n",
    "Las cadenas de texto de Python son inmutables, lo que significa que no se pueden modificar después de su creación:"
   ]
  },
  {
   "cell_type": "code",
   "execution_count": null,
   "id": "6c570d2c5fdcf008",
   "metadata": {},
   "outputs": [],
   "source": [
    "texto[0] = 'J'"
   ]
  },
  {
   "cell_type": "markdown",
   "id": "7f21885a8aeb226f",
   "metadata": {},
   "source": [
    "## 5.3 Conversiones de tipos en Python\n",
    "En Python, la conversión de tipos (también llamada casting) se refiere a la transformación de un valor de un tipo de datos a otro tipo de datos. Por ejemplo, convertir un número en una cadena de texto, o una cadena de texto en un número.\n",
    "### Conversión implícita\n",
    "Python a veces convierte automáticamente los tipos cuando no hay pérdida de información al hacer la transformación:"
   ]
  },
  {
   "cell_type": "code",
   "execution_count": null,
   "id": "efb6e8ef584ef867",
   "metadata": {},
   "outputs": [],
   "source": [
    "entero = 5\n",
    "decimal = 2.5\n",
    "resultado = entero + decimal\n",
    "print(resultado)            # 7.5\n",
    "print(type(resultado))      # <class 'float'>"
   ]
  },
  {
   "cell_type": "markdown",
   "id": "fdf5db00f9a4bb8c",
   "metadata": {},
   "source": [
    "Aquí, Python convierte automáticamente el entero (int) a real (float) para hacer la suma.\n",
    "\n",
    "### Conversión explícita\n",
    "Se realiza manualmente con funciones como:\n",
    "- int(), conversión a entero\n",
    "- float(), conversión a decimal\n",
    "- str(), conversión a cadena de texto\n",
    "- bool(), conversión a booleano (True o False)\n",
    "\n",
    "### Ejemplos:\n",
    "#### De una cadena de caracteres a un número:"
   ]
  },
  {
   "cell_type": "code",
   "execution_count": null,
   "id": "8c08959b13181773",
   "metadata": {},
   "outputs": [],
   "source": [
    "numero = int(\"10\")         # ahora es 10 (int)\n",
    "decimal = float(\"3.14\")    # ahora es 3.14 (float)"
   ]
  },
  {
   "cell_type": "markdown",
   "id": "cb02a66898086df",
   "metadata": {},
   "source": [
    "#### De un número a una cadena de caracteres:"
   ]
  },
  {
   "cell_type": "code",
   "execution_count": null,
   "id": "4596b347a1ede934",
   "metadata": {},
   "outputs": [],
   "source": [
    "text = str(123)            # \"123\""
   ]
  },
  {
   "cell_type": "markdown",
   "id": "839cdc9ded2332d1",
   "metadata": {},
   "source": [
    " > ⚠️ Cuidado con intentar convertir una cadena de texto que no representa un número válido:"
   ]
  },
  {
   "cell_type": "code",
   "execution_count": null,
   "id": "5d201a0bee3ada12",
   "metadata": {},
   "outputs": [],
   "source": [
    "int(\"hola\")    # ValueError"
   ]
  },
  {
   "cell_type": "markdown",
   "id": "95fca20ab70cd2ad",
   "metadata": {},
   "source": [
    "#### De un número a un booleano:"
   ]
  },
  {
   "cell_type": "code",
   "execution_count": null,
   "id": "d46cd3ae3b796b9b",
   "metadata": {},
   "outputs": [],
   "source": [
    "print(bool(0))        # False\n",
    "print(bool(5))        # True\n",
    "print(bool(0.0))      # False"
   ]
  },
  {
   "cell_type": "markdown",
   "id": "32b0aed1c37819c2",
   "metadata": {},
   "source": [
    "#### De una cadena de caracteres a un booleano:"
   ]
  },
  {
   "cell_type": "code",
   "execution_count": null,
   "id": "4e5996bb0d058d91",
   "metadata": {},
   "outputs": [],
   "source": [
    "print(bool(\"\"))            # False (cadena vacía)\n",
    "print(bool(\"hola\"))        # True"
   ]
  },
  {
   "cell_type": "markdown",
   "id": "bcea3f342ed691a4",
   "metadata": {},
   "source": [
    "#### Otros:"
   ]
  },
  {
   "cell_type": "code",
   "execution_count": null,
   "id": "f18ac8b514907df7",
   "metadata": {},
   "outputs": [],
   "source": [
    "print ( 5 + True )\n",
    "print ( True + True )\n",
    "print(int(True))"
   ]
  },
  {
   "cell_type": "markdown",
   "id": "60579f7ad4acd75e",
   "metadata": {},
   "source": [
    "#### La función round()\n",
    "La función 'round()' no realiza conversiones, pero es muy útil para eliminar los número decimales no deseados:"
   ]
  },
  {
   "cell_type": "code",
   "execution_count": null,
   "id": "8f7a635fdd85b2ab",
   "metadata": {},
   "outputs": [],
   "source": [
    "x = 1 / 3\n",
    "print( x )    # 0.3333333333333333\n",
    "y = round(x, 2)\n",
    "print (y)     # 0.33"
   ]
  },
  {
   "cell_type": "markdown",
   "id": "fb76029eff6abff9",
   "metadata": {},
   "source": [
    "## 5.4 Ejercicios\n",
    "\n",
    "### **Ejercicios sobre operadores**\n",
    "\n",
    "#### 1. **Operadores aritméticos**\n",
    "\n",
    "* **Ejercicio 1:** Realiza una operación de suma, resta, multiplicación, división y módulo con los números 12 y 5. Muestra el resultado de cada operación.\n",
    "* **Ejercicio 2:** Calcula la raíz cuadrada de 144 usando los operadores aritméticos y la función `**`.\n",
    "* **Ejercicio 3:** Usa la operación de división entera y el módulo para dividir 23 entre 5. ¿Cuál es el cociente y el resto?\n",
    "\n",
    "#### 2. **Operadores de asignación**\n",
    "\n",
    "* **Ejercicio 4:** Usa el operador `+=` para incrementar una variable en 5 y muestra el resultado.\n",
    "* **Ejercicio 5:** Usa los operadores de asignación `-=`, `*=`, `/=`, y `**=` con una variable `x` que inicia en 10. Muestra cómo cambia `x` después de cada operación.\n",
    "\n",
    "#### 3. **Operadores de comparación**\n",
    "\n",
    "* **Ejercicio 6:** Compara dos números `a` y `b` (elige valores diferentes) usando los operadores `==`, `!=`, `>`, `<`, `>=`, `<=`. Muestra si cada comparación es `True` o `False`.\n",
    "* **Ejercicio 7:** Compara una lista y una cadena (con los mismos caracteres ambas) para ver si son iguales utilizando el operador `==`. ¿Por qué el resultado es como es?\n",
    "\n",
    "#### 4. **Operadores lógicos**\n",
    "\n",
    "* **Ejercicio 8:** Usa los operadores lógicos `and`, `or` y `not` para comprobar las condiciones en una variable booleana. Ejemplo: \"Si una persona tiene 18 años o más, y si ha terminado la secundaria, puede inscribirse en el curso\".\n",
    "\n",
    "#### 5. **Operadores de identidad (is, is not)**\n",
    "\n",
    "* **Ejercicio 9:** Crea dos listas con los mismos elementos y verifica si son la misma referencia de objeto usando `is` y `is not`. Explica el comportamiento.\n",
    "\n",
    "#### 6. **Operadores de pertenencia (in, not in)**\n",
    "\n",
    "* **Ejercicio 10:** Crea una lista de números del 1 al 10 y verifica si el número 5 está dentro de esa lista usando el operador `in`.\n",
    "* **Ejercicio 11:** Verifica si una cadena contiene una subcadena utilizando `in`. ¿Qué sucede si la subcadena no existe?\n",
    "\n",
    "#### 7. **Operadores a nivel de bits**\n",
    "\n",
    "* **Ejercicio 12:** Realiza una operación AND y OR entre dos números, por ejemplo, 7 (binario: 111) y 10 (binario: 1010).\n",
    "* **Ejercicio 13:** Usa el operador `<<` para realizar un desplazamiento a la izquierda de 3 bits en el número 5 (binario: 101).\n",
    "* **Ejercicio 14:** Realiza un ejercicio con el operador XOR (`^`) entre dos números de tu elección.\n",
    "\n",
    "#### 8. **Problemas de precisión con números reales**\n",
    "\n",
    "* **Ejercicio 15:** Realiza la suma de 0.1 + 0.7 en Python y muestra el resultado. Explica por qué el resultado no es 0.8 exactamente.\n",
    "\n",
    "---\n",
    "\n",
    "### **Ejercicios sobre cadenas**\n",
    "\n",
    "#### 9. **Concatenación de cadenas**\n",
    "\n",
    "* **Ejercicio 16:** Crea dos cadenas, `cadena1` y `cadena2`, y concaténalas para formar una nueva cadena.\n",
    "* **Ejercicio 17:** Concatenar varias cadenas usando un bucle for y el operador `+`. Prueba también la función `join()`.\n",
    "\n",
    "#### 10. **Repetición de cadenas**\n",
    "\n",
    "* **Ejercicio 18:** Usa el operador de repetición `*` para repetir una cadena un número determinado de veces.\n",
    "\n",
    "#### 11. **Comparación de cadenas**\n",
    "\n",
    "* **Ejercicio 19:** Compara dos cadenas para ver si son iguales (usa el operador `==`) y luego compara si una cadena es mayor o menor alfabéticamente.\n",
    "\n",
    "#### 12. **Longitud de cadenas**\n",
    "\n",
    "* **Ejercicio 20:** Usa la función `len()` para obtener la longitud de una cadena.\n",
    "* **Ejercicio 21:** Crea una función que calcule la longitud de una cadena sin usar `len()`.\n",
    "\n",
    "#### 13. **Acceso por índice**\n",
    "\n",
    "* **Ejercicio 22:** Accede al primer, último y un elemento intermedio de una cadena utilizando índices.\n",
    "* **Ejercicio 23:** Intenta acceder a un índice fuera del rango y maneja el error con un `try`-`except`. La excepción a manejar sería `IndexError`.\n",
    "\n",
    "#### 14. **Slicing**\n",
    "\n",
    "* **Ejercicio 24:** Utiliza slicing para obtener una subcadena de una cadena original. Intenta obtener los primeros 3 y últimos 3 caracteres de una cadena.\n",
    "* **Ejercicio 25:** Realiza un slicing inverso de una cadena (es decir, invertir la cadena).\n",
    "\n",
    "#### 15. **Iteración sobre cadenas**\n",
    "\n",
    "* **Ejercicio 26:** Usa un bucle `for` para imprimir cada carácter de una cadena por separado.\n",
    "* **Ejercicio 27:** Escribe una función que cuente cuántas veces aparece un carácter específico en una cadena.\n",
    "\n",
    "---\n",
    "\n",
    "### **Ejercicios sobre conversión de tipos**\n",
    "\n",
    "#### 16. **Conversión implícita**\n",
    "\n",
    "* **Ejercicio 28:** Realiza una operación entre un número entero y un número decimal. Muestra el resultado y explica cómo Python maneja la conversión implícita.\n",
    "\n",
    "#### 17. **Conversión explícita**\n",
    "\n",
    "* **Ejercicio 29:** Convierte un número flotante en un número entero utilizando `int()`. ¿Qué sucede con los decimales?\n",
    "* **Ejercicio 30:** Convierte una cadena que contiene un número a un número entero o flotante utilizando `int()` o `float()`. ¿Qué sucede si la cadena no es un número válido?\n",
    "* **Ejercicio 31:** Realiza una conversión explícita entre tipos `int` o `float` y `str` y muestra los resultados.\n",
    "\n",
    "#### 18. **Conversión de tipos con listas y diccionarios**\n",
    "\n",
    "* ❗**Ejercicio 32:** Convierte una lista de números en una cadena utilizando `join()`. Luego, convierte la cadena de nuevo en una lista de enteros.\n",
    "* ❗**Ejercicio 33:** Convierte un diccionario en una lista de claves y luego en una lista de valores. Puedes utilizar los métodos .keys() y .values(). Ambos métodos devuelven vistas del diccionario, que son iterables, y puedes convertirlos fácilmente en listas utilizando la función list().\n",
    "\n",
    "---\n",
    "\n",
    "### **Ejercicios combinados y adicionales**\n",
    "\n",
    "#### 19. **Ejercicio complejo**\n",
    "\n",
    "* ❗**Ejercicio 34:** Crea un programa que pida al usuario unos números separados por comas. Luego, convierte esa lista en una lista de enteros, calcula la suma y el promedio, y verifica si el promedio está en la lista. Puedes obtener una lista a partir de los números separados por coma con la función `split(',')` aplicada sobre la cadena de caracteres. Después puedes convertir cada elemento de la lista en un entero, bien recorriendo la lista elemento a elemento, bien usando una función `map(int, lista)`. Puedes sumar los elementos de la lista con la función `sum(lista)`. Cuida de calcular el promedio solo si la longitud de la lista es mayor que cero.\n",
    "\n",
    "#### 20. **Ejercicio de precisión y slicing**\n",
    "\n",
    "* ❗**Ejercicio 35:** Usa una lista de cadenas que representen números flotantes, conviértelas a flotantes y muestra los resultados con 3 decimales.\n"
   ]
  },
  {
   "cell_type": "markdown",
   "id": "471078bc",
   "metadata": {},
   "source": [
    "\n",
    "\n",
    "#### 20. **Ejercicio de precisión y slicing**\n",
    "\n",
    "* ❗**Ejercicio 35:** Usa una lista de cadenas que representen números flotantes, conviértelas a flotantes y muestra los resultados con 3 decimales."
   ]
  },
  {
   "cell_type": "code",
   "execution_count": null,
   "id": "ac403d5f",
   "metadata": {},
   "outputs": [
    {
     "name": "stdout",
     "output_type": "stream",
     "text": [
      "Suma 12 + 5: 17\n",
      "Resta de 12 + 5: 7\n",
      "Multiplicación de 12 * 5: 60\n",
      "División de 12 / 5: 2.4\n",
      "Módulo de 12 // 5: 2\n"
     ]
    }
   ],
   "source": [
    "# Ejercicio 1.\n",
    "a = 12\n",
    "b = 5\n",
    "print(f'Suma {a} + {b}: {a+b}\\nResta de {a} + {b}: {a-b}\\nMultiplicación de {a} * {b}: {a*b}\\nDivisión de {a} / {b}: {a/b}\\nMódulo de {a} % {b}: {a%b}')"
   ]
  },
  {
   "cell_type": "code",
   "execution_count": 2,
   "id": "c29e1b41",
   "metadata": {},
   "outputs": [
    {
     "name": "stdout",
     "output_type": "stream",
     "text": [
      "La raíz cuadrada de 144 es: 12.0\n"
     ]
    }
   ],
   "source": [
    "# Ejercicio 2\n",
    "a = 144\n",
    "print(f'La raíz cuadrada de {a} es: {144**0.5}')"
   ]
  },
  {
   "cell_type": "code",
   "execution_count": null,
   "id": "bba403a3",
   "metadata": {},
   "outputs": [
    {
     "name": "stdout",
     "output_type": "stream",
     "text": [
      "La división de 23 / 5 es : 4.6\n",
      "El módulo de 23 % 5 es: 3\n",
      "El cociente es 4 y el resto es 3\n"
     ]
    }
   ],
   "source": [
    "# Ejercicio 3\n",
    "a = 23\n",
    "b = 5\n",
    "print(f'La división de {a} / {b} es : {a/b}\\nEl módulo de {a} % {b} es: {a%b}')\n",
    "print('El cociente es 4 y el resto es 3')"
   ]
  },
  {
   "cell_type": "code",
   "execution_count": 7,
   "id": "a48a06af",
   "metadata": {},
   "outputs": [
    {
     "name": "stdout",
     "output_type": "stream",
     "text": [
      "15\n"
     ]
    }
   ],
   "source": [
    "# Ejercicio 4\n",
    "a = 10\n",
    "a += 5\n",
    "print(a)"
   ]
  },
  {
   "cell_type": "code",
   "execution_count": 8,
   "id": "23a7a402",
   "metadata": {},
   "outputs": [
    {
     "name": "stdout",
     "output_type": "stream",
     "text": [
      "Operador de asignación -=: 5\n",
      "Operador de asignación *=: 25\n",
      "Operador de asignación /=: 5.0\n",
      "Operador de asignación **=: 3125.0\n"
     ]
    }
   ],
   "source": [
    "# Ejercicio 5\n",
    "x = 10\n",
    "x -= 5\n",
    "print(f'Operador de asignación -=: {x}')\n",
    "x *= 5\n",
    "print(f'Operador de asignación *=: {x}')\n",
    "x /= 5\n",
    "print(f'Operador de asignación /=: {x}')\n",
    "x **= 5\n",
    "print(f'Operador de asignación **=: {x}')\n"
   ]
  },
  {
   "cell_type": "code",
   "execution_count": 9,
   "id": "a48ff1f4",
   "metadata": {},
   "outputs": [
    {
     "name": "stdout",
     "output_type": "stream",
     "text": [
      "Operador ==: False\n",
      "Operador !=: True\n",
      "Operador >: True\n",
      "perador <: False\n",
      "Operador >=: True\n",
      "Operador <= False\n"
     ]
    }
   ],
   "source": [
    "# Ejercicio 6\n",
    "a = 10 \n",
    "b = 5\n",
    "print(f'Operador ==: {a==b}\\nOperador !=: {a!=b}\\nOperador >: {a>b}\\nperador <: {a<b}\\nOperador >=: {a>=b}\\nOperador <= {a<=b}')"
   ]
  },
  {
   "cell_type": "code",
   "execution_count": 10,
   "id": "9066d672",
   "metadata": {},
   "outputs": [
    {
     "name": "stdout",
     "output_type": "stream",
     "text": [
      "Comparación de una lista y una cadena: False\n"
     ]
    }
   ],
   "source": [
    "# Ejercicio 7\n",
    "lista = ['H','o','l','a']\n",
    "cadena = 'Hola'\n",
    "print(f'Comparación de una lista y una cadena: {lista == cadena}')"
   ]
  },
  {
   "cell_type": "code",
   "execution_count": 12,
   "id": "2e52db1f",
   "metadata": {},
   "outputs": [
    {
     "name": "stdout",
     "output_type": "stream",
     "text": [
      "No se puede inscribir en el curso\n"
     ]
    }
   ],
   "source": [
    "# Ejercicio 8\n",
    "edad = 17\n",
    "fin_secundaria = True\n",
    "if edad >= 18 and fin_secundaria:\n",
    "    print('Puede incribirse en el curso')\n",
    "else:\n",
    "    print('No se puede inscribir en el curso')"
   ]
  },
  {
   "cell_type": "code",
   "execution_count": 14,
   "id": "59795456",
   "metadata": {},
   "outputs": [
    {
     "name": "stdout",
     "output_type": "stream",
     "text": [
      "Verificación de referencia entre listas con el mismo contenido: False\n",
      "Verificación de referencia entre listas con el mismo contenido: True\n"
     ]
    }
   ],
   "source": [
    "# Ejercicio 9\n",
    "lista1 = ['H','o','l','a']\n",
    "lista2 = ['H','o','l','a']\n",
    "print(f'Verificación de referencia entre listas con el mismo contenido: {lista1 is lista2}')\n",
    "print(f'Verificación de referencia entre listas con el mismo contenido: {lista1 is not lista2}')"
   ]
  },
  {
   "cell_type": "code",
   "execution_count": null,
   "id": "941033ba",
   "metadata": {},
   "outputs": [
    {
     "name": "stdout",
     "output_type": "stream",
     "text": [
      "El número 5 no está en la lista\n"
     ]
    }
   ],
   "source": [
    "# Ejercicio 10\n",
    "lista = [1,2,3,4,5,6,7,8,9,10]\n",
    "if 5 in lista:\n",
    "    print('El número 5 está presente en la lista')\n",
    "else:\n",
    "    print('El número 5 no está en la lista')"
   ]
  },
  {
   "cell_type": "code",
   "execution_count": null,
   "id": "5127119a",
   "metadata": {},
   "outputs": [
    {
     "name": "stdout",
     "output_type": "stream",
     "text": [
      "La subcadena: python no está presente en la cadena: Python es un lenguaje interpretado\n"
     ]
    }
   ],
   "source": [
    "# Ejericio 11\n",
    "cadena = 'Python es un lenguaje interpretado'\n",
    "subcadena = 'Python'\n",
    "if subcadena in cadena:\n",
    "    print(f'La subcadena: {subcadena} está presente en la cadena: {cadena}')\n",
    "else:\n",
    "    print(f'La subcadena: {subcadena} no está presente en la cadena: {cadena}')\n"
   ]
  },
  {
   "cell_type": "code",
   "execution_count": null,
   "id": "d6319ac7",
   "metadata": {},
   "outputs": [
    {
     "name": "stdout",
     "output_type": "stream",
     "text": [
      "El resultado de la suma de 0.1 + 0.7 es: 0.7999999999999999\n"
     ]
    }
   ],
   "source": [
    "# Ejercicio 15\n",
    "print(f'El resultado de la suma de 0.1 + 0.7 es: {0.1 + 0.7}') # Porque no es capaz de almacenar con precisión un número decimal "
   ]
  },
  {
   "cell_type": "code",
   "execution_count": 23,
   "id": "0aa4aa20",
   "metadata": {},
   "outputs": [
    {
     "name": "stdout",
     "output_type": "stream",
     "text": [
      "cadena1cadena2\n"
     ]
    }
   ],
   "source": [
    "# Ejercicio 16\n",
    "cadena1 = 'cadena1'\n",
    "cadena2 = 'cadena2'\n",
    "print(cadena1 +  cadena2)"
   ]
  },
  {
   "cell_type": "code",
   "execution_count": 28,
   "id": "d8d9adeb",
   "metadata": {},
   "outputs": [
    {
     "name": "stdout",
     "output_type": "stream",
     "text": [
      "Hola mundo esto es Python\n",
      "Hola mundo esto es Python\n"
     ]
    }
   ],
   "source": [
    "# Ejercicio 17\n",
    "cadenas = ['Hola', 'mundo', 'esto', 'es', 'Python']\n",
    "resultado = ''\n",
    "for cadena in cadenas:\n",
    "    resultado += cadena + ' '\n",
    "print(resultado.strip())\n",
    "\n",
    "resultado_join = ' '.join(cadenas)\n",
    "print(resultado_join)"
   ]
  },
  {
   "cell_type": "code",
   "execution_count": 29,
   "id": "7c7bd94c",
   "metadata": {},
   "outputs": [
    {
     "name": "stdout",
     "output_type": "stream",
     "text": [
      "cadena1cadena1cadena1cadena1cadena1\n"
     ]
    }
   ],
   "source": [
    "# Ejercicio 18\n",
    "print(cadena1 * 5)"
   ]
  },
  {
   "cell_type": "code",
   "execution_count": 30,
   "id": "db35f10b",
   "metadata": {},
   "outputs": [
    {
     "name": "stdout",
     "output_type": "stream",
     "text": [
      "Compración entre cadena1 y cadena2: False. Comparación de longitud de cadena: True\n"
     ]
    }
   ],
   "source": [
    "# Ejercicio 19\n",
    "print(f'Compración entre {cadena1} y {cadena2}: {cadena1 == cadena2}. Comparación de longitud de cadena: {len(cadena1) == len(cadena2)}')"
   ]
  },
  {
   "cell_type": "code",
   "execution_count": 31,
   "id": "93d628cb",
   "metadata": {},
   "outputs": [
    {
     "name": "stdout",
     "output_type": "stream",
     "text": [
      "La longitud de la cadena: cadena1 es: 7\n"
     ]
    }
   ],
   "source": [
    "# Ejericio 20\n",
    "print(f'La longitud de la cadena: {cadena1} es: {len(cadena1)}')"
   ]
  },
  {
   "cell_type": "code",
   "execution_count": 32,
   "id": "e24306f1",
   "metadata": {},
   "outputs": [
    {
     "name": "stdout",
     "output_type": "stream",
     "text": [
      "La longitud de la cadena: cadena1 es: 7\n"
     ]
    }
   ],
   "source": [
    "# Ejericio 21\n",
    "def calcular_longitud_cadena(cadena):\n",
    "    contador = 0\n",
    "    for letra in cadena:\n",
    "        contador += 1\n",
    "    return contador\n",
    "\n",
    "print(f'La longitud de la cadena: {cadena1} es: {calcular_longitud_cadena(cadena1)}')"
   ]
  },
  {
   "cell_type": "code",
   "execution_count": 33,
   "id": "22733786",
   "metadata": {},
   "outputs": [
    {
     "name": "stdout",
     "output_type": "stream",
     "text": [
      "Acceso al primer: P, último elemento: o y intermedio de la cadena: u\n"
     ]
    }
   ],
   "source": [
    "# Ejercicio 22\n",
    "cadena = 'Python es un lenguaje interpretado'\n",
    "print(f'Acceso al primer: {cadena[0]}, último elemento: {cadena[-1]} y intermedio de la cadena: {cadena[len(cadena)//2]}')"
   ]
  },
  {
   "cell_type": "code",
   "execution_count": 38,
   "id": "6e51cb38",
   "metadata": {},
   "outputs": [
    {
     "name": "stdout",
     "output_type": "stream",
     "text": [
      "Error al acceder a un índice fuera de rango: string index out of range\n"
     ]
    }
   ],
   "source": [
    "# Ejercicio 23\n",
    "try:\n",
    "    print(f'Intento de acceso a un índice fuera de rango de la lista: {cadena[len(cadena)]}')\n",
    "except Exception as e:\n",
    "    print(f'Error al acceder a un índice fuera de rango: {e}')"
   ]
  },
  {
   "cell_type": "code",
   "execution_count": 45,
   "id": "d0137eea",
   "metadata": {},
   "outputs": [
    {
     "name": "stdout",
     "output_type": "stream",
     "text": [
      "Primeros 3 caracteres: Hol\n",
      "Últimos 3 caracateres: ido\n",
      "Cadena invertida: oditrevid se olrednerpa y nohtyP se otse ,odnuM aloH\n"
     ]
    }
   ],
   "source": [
    "# Ejercicio 24\n",
    "cadena = 'Hola Mundo, esto es Python y aprenderlo es divertido'\n",
    "print(f'Primeros 3 caracteres: {cadena[:3]}')\n",
    "print(f'Últimos 3 caracateres: {cadena[-3:]}')\n",
    "# Ejercicio 25\n",
    "invertida = cadena[::-1] # coge la cadena de inicio a fin y en paso -1, haciendo que la recorra de atrás hacia delante\n",
    "print(f'Cadena invertida: {invertida}')"
   ]
  },
  {
   "cell_type": "code",
   "execution_count": 46,
   "id": "92221d4d",
   "metadata": {},
   "outputs": [
    {
     "name": "stdout",
     "output_type": "stream",
     "text": [
      "H\n",
      "o\n",
      "l\n",
      "a\n",
      " \n",
      "M\n",
      "u\n",
      "n\n",
      "d\n",
      "o\n",
      ",\n",
      " \n",
      "e\n",
      "s\n",
      "t\n",
      "o\n",
      " \n",
      "e\n",
      "s\n",
      " \n",
      "P\n",
      "y\n",
      "t\n",
      "h\n",
      "o\n",
      "n\n",
      " \n",
      "y\n",
      " \n",
      "a\n",
      "p\n",
      "r\n",
      "e\n",
      "n\n",
      "d\n",
      "e\n",
      "r\n",
      "l\n",
      "o\n",
      " \n",
      "e\n",
      "s\n",
      " \n",
      "d\n",
      "i\n",
      "v\n",
      "e\n",
      "r\n",
      "t\n",
      "i\n",
      "d\n",
      "o\n",
      "El caracter \"a\" aparace: 2 veces en la cadena: Hola Mundo, esto es Python y aprenderlo es divertido\n"
     ]
    }
   ],
   "source": [
    "# Ejericio 26\n",
    "for letra in cadena:\n",
    "    print(letra)\n",
    "# Ejericio 27\n",
    "def contador_caracter_en_cadena(cadena, caracter):\n",
    "    contador = 0\n",
    "    for letra in cadena:\n",
    "        if letra == caracter:\n",
    "            contador += 1\n",
    "    return contador\n",
    "print(f'El caracter \"a\" aparace: {contador_caracter_en_cadena(cadena, 'a')} veces en la cadena: {cadena}')\n"
   ]
  },
  {
   "cell_type": "code",
   "execution_count": 47,
   "id": "d275573e",
   "metadata": {},
   "outputs": [
    {
     "name": "stdout",
     "output_type": "stream",
     "text": [
      "Suma entre un número entero: 10 y uno decimal: 5.5 es: 15.5\n"
     ]
    }
   ],
   "source": [
    "# Ejercicio 28\n",
    "num_entero = 10\n",
    "num_decimal = 5.5\n",
    "print(f'Suma entre un número entero: {num_entero} y uno decimal: {num_decimal} es: {num_entero + num_decimal}')"
   ]
  },
  {
   "cell_type": "code",
   "execution_count": null,
   "id": "eba7057f",
   "metadata": {},
   "outputs": [
    {
     "name": "stdout",
     "output_type": "stream",
     "text": [
      "5\n"
     ]
    }
   ],
   "source": [
    "# Ejericio 29\n",
    "num_flotante = 5.5\n",
    "num_int = int(num_flotante) # En el momento que se hace un casting de un número flotanete a entero, los decimales se pierden\n",
    "print(num_int)"
   ]
  },
  {
   "cell_type": "code",
   "execution_count": 51,
   "id": "325b93bd",
   "metadata": {},
   "outputs": [
    {
     "name": "stdout",
     "output_type": "stream",
     "text": [
      "10\n"
     ]
    }
   ],
   "source": [
    "# Ejericio 30\n",
    "cadena_num = '10'\n",
    "num_int = int(cadena_num) # Si la cadena no es válida da un error de invalid literal for int()\n",
    "print(num_int)"
   ]
  },
  {
   "cell_type": "code",
   "execution_count": 52,
   "id": "62c56023",
   "metadata": {},
   "outputs": [
    {
     "name": "stdout",
     "output_type": "stream",
     "text": [
      "Conversión de un número entero: 10 a float: 10.0\n",
      "Conversión de un número entero: 10 a cadena: 10\n",
      "Conversión de un número float: 10.5 a entero: 10\n",
      "Conversión de un número float: 10.5 a cadena: 10.5\n",
      "Conversión de un número en una cadena: 150 a entero: 150\n",
      "Conversión de un número en una cadena: 150 a float: 150.0\n"
     ]
    }
   ],
   "source": [
    "# Ejercicio 31\n",
    "num_int = 10\n",
    "num_float = 10.50\n",
    "num_cadena = '150'\n",
    "\n",
    "num_int_to_float = float(num_int)\n",
    "num_int_to_cadena = str(num_int)\n",
    "print(f'Conversión de un número entero: {num_int} a float: {num_int_to_float}')\n",
    "print(f'Conversión de un número entero: {num_int} a cadena: {num_int_to_cadena}')\n",
    "\n",
    "num_float_to_int = int(num_float)\n",
    "num_float_to_cadena = str(num_float)\n",
    "print(f'Conversión de un número float: {num_float} a entero: {num_float_to_int}')\n",
    "print(f'Conversión de un número float: {num_float} a cadena: {num_float_to_cadena}')\n",
    "\n",
    "num_cadena_to_int = int(num_cadena)\n",
    "num_cadena_to_float = float(num_cadena)\n",
    "print(f'Conversión de un número en una cadena: {num_cadena} a entero: {num_cadena_to_int}')\n",
    "print(f'Conversión de un número en una cadena: {num_cadena} a float: {num_cadena_to_float}')"
   ]
  },
  {
   "cell_type": "code",
   "execution_count": 57,
   "id": "cf15d6f0",
   "metadata": {},
   "outputs": [
    {
     "name": "stdout",
     "output_type": "stream",
     "text": [
      "10-20-30-40-50\n",
      "[10, 20, 30, 40, 50]\n"
     ]
    }
   ],
   "source": [
    "# Ejercicio 32\n",
    "lista_num = [10, 20, 30, 40, 50]\n",
    "cadena = '-'.join(map(str, lista_num))\n",
    "print(cadena)\n",
    "\n",
    "lista_num_entero = [int(num) for num in cadena.split('-')]\n",
    "print(lista_num_entero)"
   ]
  },
  {
   "cell_type": "code",
   "execution_count": 58,
   "id": "323cdd95",
   "metadata": {},
   "outputs": [
    {
     "name": "stdout",
     "output_type": "stream",
     "text": [
      "Keys: ['Spain', 'France', 'England']\n",
      "Values: ['Madrid', 'Paris', 'London']\n"
     ]
    }
   ],
   "source": [
    "# Ejercicio 33\n",
    "diccionario = {'Spain': 'Madrid', 'France': 'Paris', 'England': 'London'}\n",
    "lista_claves = [key for key in diccionario.keys()]\n",
    "lista_valores = [value for value in diccionario.values()]\n",
    "print(f'Keys: {lista_claves}')\n",
    "print(f'Values: {lista_valores}')"
   ]
  },
  {
   "cell_type": "code",
   "execution_count": 62,
   "id": "caa66f20",
   "metadata": {},
   "outputs": [
    {
     "name": "stdout",
     "output_type": "stream",
     "text": [
      "El promedio 20.0 está en la lista de valores introducidos\n"
     ]
    }
   ],
   "source": [
    "# Ejericicio 34\n",
    "lista_numeros = input('Introduce unos números separados por coma(,) para calcular la suma: ')\n",
    "lista_enteros = [int(num) for num in lista_numeros.split(',')]\n",
    "suma = sum(lista_enteros)\n",
    "if len(lista_enteros) > 0:\n",
    "    promedio = suma / len(lista_enteros)\n",
    "    if promedio in lista_enteros:\n",
    "        print(f'El promedio {promedio} está en la lista de valores introducidos')\n",
    "    else:\n",
    "        print(f'El promedio {promedio} no está en la lista de valores introducidos')\n",
    "else:\n",
    "    promedio = 0\n",
    "    print(f'El promedio de una lista de vacía es: {promedio}')\n",
    "\n",
    "\n"
   ]
  },
  {
   "cell_type": "code",
   "execution_count": null,
   "id": "171e5475",
   "metadata": {},
   "outputs": [
    {
     "name": "stdout",
     "output_type": "stream",
     "text": [
      "4.513\n",
      "5.758\n",
      "9.150\n"
     ]
    }
   ],
   "source": [
    "# Ejercicio 35\n",
    "cadena_flotantes = ['4.51345', '5.757894', '9.15012342']\n",
    "lista_flotantes = list(map(float, cadena_flotantes))\n",
    "for num in lista_flotantes:\n",
    "    print(f'{num:.3f}')"
   ]
  }
 ],
 "metadata": {
  "kernelspec": {
   "display_name": ".venv",
   "language": "python",
   "name": "python3"
  },
  "language_info": {
   "codemirror_mode": {
    "name": "ipython",
    "version": 3
   },
   "file_extension": ".py",
   "mimetype": "text/x-python",
   "name": "python",
   "nbconvert_exporter": "python",
   "pygments_lexer": "ipython3",
   "version": "3.13.7"
  }
 },
 "nbformat": 4,
 "nbformat_minor": 5
}
