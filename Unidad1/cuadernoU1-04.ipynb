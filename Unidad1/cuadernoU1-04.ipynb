{
 "cells": [
  {
   "cell_type": "markdown",
   "id": "7645ecfeb26150bc",
   "metadata": {},
   "source": [
    "# 4. Literales y lectura de datos por teclado"
   ]
  },
  {
   "cell_type": "markdown",
   "id": "1a3a22990ef4c18e",
   "metadata": {},
   "source": [
    "## 4.1 Literales\n",
    "Un literal en Python (y en la programación en general) es un valor fijo escrito directamente al código que no se calcula ni se deriva de ninguna otra expresión. Es simplemente una representación literal de un valor.\n",
    "### Literales numéricos\n",
    "Podemos representar enteros en diferentes bases:\n",
    "- Decimal: Representación regular. Ejemplo: 345\n",
    "- Binario: Prefijo 0b. Ejemplo: 0b101001001\n",
    "- Octal: Prefijo 0o. Ejemplo: 0o546\n",
    "- Hexadecimal: Prefijo 0x. Ejemplo: 0xf9af9d\n",
    "\n",
    "Los números reales (con decimales) se representan separando la parte entera del decimal con un punto '.':\n",
    "> 123.50    0.56    .56    12.    12.00\n",
    "También pueden utilizar la notación científica:\n",
    "> 1.2e3     5e-2\n",
    "Los números complejos (con parte real e imaginaria) se escriben con una 'j' al final de la parte imaginaria:\n",
    "> 1+2j     8+15J\n",
    "Puedes representar el infinito con:\n",
    "> float(\"inf\")     float(\"-inf\")\n",
    "\n",
    "**Todos son objetos**\n",
    "En Python, todos los elementos son objetos, incluso los literales. Cuando usamos un literal, Python crea un objeto con un identificador único, un tipo y un valor. Puedes obtener el identificador de un objeto con la función id():"
   ]
  },
  {
   "cell_type": "code",
   "execution_count": null,
   "id": "initial_id",
   "metadata": {
    "collapsed": true
   },
   "outputs": [],
   "source": [
    "x = 100\n",
    "print(id(x))"
   ]
  },
  {
   "cell_type": "markdown",
   "id": "80ca62f5d547d73f",
   "metadata": {},
   "source": [
    "### Cadenas literales (o simplemente cadenas)\n",
    "Los literales de tipo cadena están limitados por comillas simples o dobles, o también por triples comillas (''' o \"\"\").\n",
    "\n",
    "En Python, las comillas dobles y simples son equivalentes, aunque en otros lenguajes de programación pueden no serlo:"
   ]
  },
  {
   "cell_type": "code",
   "execution_count": null,
   "id": "a9c12e6f77da8062",
   "metadata": {},
   "outputs": [],
   "source": [
    "print(\"Esto es una cadena\")     # Correcto\n",
    "print('Esto es una cadena')     # Correcto"
   ]
  },
  {
   "cell_type": "markdown",
   "id": "53b76ccb4e294f3e",
   "metadata": {},
   "source": [
    "Si usamos comillas simples, la cadena debe comenzar y terminar con comillas simples (no dobles) y viceversa:"
   ]
  },
  {
   "cell_type": "code",
   "execution_count": null,
   "id": "611fd562b02b7f60",
   "metadata": {},
   "outputs": [],
   "source": [
    "# print(\"Esto es una cadena')     # Error de sintaxis\n",
    "# print(\"Esto \"es una cadena\")    # Error de sintaxis"
   ]
  },
  {
   "cell_type": "markdown",
   "id": "17f060db2161e610",
   "metadata": {},
   "source": [
    "#### Comillas triples\n",
    "Las comillas triples permiten escribir cadenas que ocupan varias líneas. Son útiles cuando se desea superar el límite recomendado de 79 caracteres por línea:"
   ]
  },
  {
   "cell_type": "code",
   "execution_count": 1,
   "id": "a2508b1e8a94fa10",
   "metadata": {},
   "outputs": [
    {
     "name": "stdout",
     "output_type": "stream",
     "text": [
      "Esto es una cadena\n",
      "que ocupa\n",
      "varias líneas\n"
     ]
    }
   ],
   "source": [
    "print(\"\"\"Esto es una cadena\n",
    "que ocupa\n",
    "varias líneas\"\"\")"
   ]
  },
  {
   "cell_type": "markdown",
   "id": "3247390b77eca9c8",
   "metadata": {},
   "source": [
    "También se puede hacer con el carácter '\\'. El carácter '\\' permite continuar la cadena en otra línea sin romperla:"
   ]
  },
  {
   "cell_type": "code",
   "execution_count": 2,
   "id": "9cc1bba3e60c788f",
   "metadata": {},
   "outputs": [
    {
     "name": "stdout",
     "output_type": "stream",
     "text": [
      "Esto es una cadena que ocupa varias líneas\n"
     ]
    }
   ],
   "source": [
    "print(\"Esto es una cadena \\\n",
    "que ocupa \\\n",
    "varias líneas\")"
   ]
  },
  {
   "cell_type": "markdown",
   "id": "80ccdffd59359325",
   "metadata": {},
   "source": [
    " > ⚠️ Nota: En estos casos, el resultado es una cadena continua, sin saltos de línea. Si realmente quieres agregar saltos, necesitarás usar '\\n'.\n",
    "\n",
    "#### Usar comillas dentro de una cadena literal\n",
    "Si desea utilizar comillas del mismo tipo que el delimitador dentro de la cadena, debes \"escapar\" de ellas con el carácter de barra invertida '\\':"
   ]
  },
  {
   "cell_type": "code",
   "execution_count": 3,
   "id": "83b3fba2e9cf881a",
   "metadata": {},
   "outputs": [
    {
     "name": "stdout",
     "output_type": "stream",
     "text": [
      "Esto es una cadena con comillas dobles: \"ejemplo\"\n"
     ]
    }
   ],
   "source": [
    "print(\"Esto es una cadena con comillas dobles: \\\"ejemplo\\\"\")"
   ]
  },
  {
   "cell_type": "markdown",
   "id": "641184dfd035d0e3",
   "metadata": {},
   "source": [
    "#### Caracteres especiales dentro de las cadenas literales\n",
    "- \\\\\" Doble comilla dentro de comillas dobles\n",
    "- \\\\' Comilla simple dentro de comillas simples\n",
    "- \\n Salto de línea\n",
    "- \\t Tabulación horizontal\n",
    "- \\v Tabulación vertical\n",
    "- \\\\\\ Barra literal invertida\n"
   ]
  },
  {
   "cell_type": "code",
   "execution_count": 4,
   "id": "a515dbafe2bdaf4e",
   "metadata": {},
   "outputs": [
    {
     "name": "stdout",
     "output_type": "stream",
     "text": [
      "Hola\tmundo\n",
      "Línea 1\n",
      "Línea 2\n",
      "Ruta: C:\\ficheros\\usuario\n"
     ]
    }
   ],
   "source": [
    "print(\"Hola\\tmundo\")\n",
    "print(\"Línea 1\\nLínea 2\")\n",
    "print(\"Ruta: C:\\\\ficheros\\\\usuario\")"
   ]
  },
  {
   "cell_type": "markdown",
   "id": "64ee1819cf72b593",
   "metadata": {},
   "source": [
    "#### Insertar valores dentro de cadenas\n",
    "Python ofrece varios mecanismos para insertar valores variables en cadenas de texto, tales como:\n",
    "- Formato clásico: \"Hola %s\" % nombre\n",
    "- Método format(): \"Hola {}\".format(nombre)\n",
    "- f-strings (desde Python 3.6): f\"Hola {nombre}\"\n",
    "\n",
    "El uso de **f-strings** (desde Python 3.6) es la forma recomendada:"
   ]
  },
  {
   "cell_type": "code",
   "execution_count": 5,
   "id": "12955182eb10b033",
   "metadata": {},
   "outputs": [
    {
     "name": "stdout",
     "output_type": "stream",
     "text": [
      "Mi nombre es Juan y tengo 25 años.\n",
      "La suma de 4 y 5 es 9.\n",
      "edad=25\n",
      "El valor de pi con 3 decimales es 3.142.\n",
      "Porcentaje: 25.00%\n"
     ]
    }
   ],
   "source": [
    "nombre = \"Juan\"\n",
    "edad = 25\n",
    "a, b = 4, 5\n",
    "pi = 3.141592\n",
    "cantidad = 1234567.89\n",
    "numero = -42\n",
    "n = 42\n",
    "\n",
    "print(f\"Mi nombre es {nombre} y tengo {edad} años.\")\n",
    "print(f\"La suma de {a} y {b} es {a + b}.\")\n",
    "print(f\"{edad=}\")                        # Depuración: edad=25\n",
    "print(f\"El valor de pi con 3 decimales es {pi:.3f}.\")\n",
    "print(f\"Porcentaje: {0.25:.2%}\")       # 25.00%"
   ]
  },
  {
   "cell_type": "markdown",
   "id": "89089c5389d809fd",
   "metadata": {},
   "source": [
    "Alineación y formatos especiales:"
   ]
  },
  {
   "cell_type": "markdown",
   "id": "bc5ee2d8f169821c",
   "metadata": {},
   "source": [
    "## 4.2 Lectura de datos por teclado en Python\n",
    "En cualquier lenguaje de programación, la introducción de datos en un programa es esencial para que pueda comportarse de diferentes maneras. Estos datos pueden servir como base para cálculos o para tomar decisiones, realizando una acción u otra de acuerdo con el valor introducido.\n",
    "### Uso de la función **input()**\n",
    "En Python, utilizamos **input()** para pedir al usuario que introduzca los datos por teclado. Estos datos se pueden utilizar más adelante en el programa:"
   ]
  },
  {
   "cell_type": "code",
   "execution_count": null,
   "id": "30e7b830335dcfe8",
   "metadata": {},
   "outputs": [],
   "source": [
    "numero1 = input(\"Dime un primer número: \")  # Aquí, numero1 será una cadena (string)\n",
    "# El programa se quedará esperando a que el usuario escriba un valor y pulse intro\n",
    "# Esta entrada se asignará a la variable numero1 como un texto.\n",
    "numero1 = int(numero1)  # Debemos convertirla a entero si queremos hacer operaciones numéricas\n",
    "numero2 = 128\n",
    "print(numero1, \"+\", numero2, \"=\", numero1 + numero2)\n",
    "print(f\"{numero1} + {numero2} =\", numero1 + numero2)"
   ]
  },
  {
   "cell_type": "markdown",
   "id": "b14f4f08585e3811",
   "metadata": {},
   "source": [
    "Ejemplo de error común:"
   ]
  },
  {
   "cell_type": "code",
   "execution_count": null,
   "id": "7d205b150b455a9",
   "metadata": {},
   "outputs": [],
   "source": [
    "n1 = input(\"Dime el primer número: \")\n",
    "n2 = input(\"Introduce el segundo número: \")\n",
    "print(\"La suma es\", n1 + n2)  # ¡Así hará una concatenación de caracteres!\n",
    "# ¿¿¿Qué ha pasado???\n",
    "print(\"La suma es\", int(n1) + int(n2))  # Así sí suma números correctamente"
   ]
  },
  {
   "cell_type": "markdown",
   "id": "f16ebdf2bfad6a67",
   "metadata": {},
   "source": [
    "### Entrada de múltiples valores separados por comas\n",
    "También podemos pedirle al usuario que introduzca varios valores separados por comas (u otros caracteres) y convertirlos a una lista de números:"
   ]
  },
  {
   "cell_type": "code",
   "execution_count": null,
   "id": "e4f4c2a67311099d",
   "metadata": {},
   "outputs": [],
   "source": [
    "entrada = input(\"Introducir números separados por comas: \")\n",
    "numeros = entrada.split(',')  # Separa cada valor utilizando la coma como caracter separador\n",
    "# Convertimos cada valor a entero, eliminando posibles espacios en blanco\n",
    "numeros = [int(num.strip()) for num in numeros]\n",
    "print(\"Lista de números:\", numeros)"
   ]
  },
  {
   "cell_type": "markdown",
   "id": "cf812e1f4ea5dc62",
   "metadata": {},
   "source": [
    "### Conclusión\n",
    "- La función **input()** siempre devuelve cadenas de texto.\n",
    "- Es necesario convertir estas cadenas a números si queremos hacer cálculos.\n",
    "- Podemos usar **split()** y **strip()** para procesar entradas múltiples."
   ]
  },
  {
   "cell_type": "markdown",
   "id": "bcb49a8955f7e379",
   "metadata": {},
   "source": [
    "## 4.3 Ejercicios de literales numéricos y cadenas literales\n",
    "- Ejercicio 1: Escribe tres expresiones numéricas: una que utilice enteros, otra con números decimales, y otra con una mezcla de ambos. Muestra los resultados de estas expresiones.\n",
    "- Ejercicio 2: Crea cadenas utilizando comillas simples, dobles y triples. Muestra cómo funcionan y cuándo es conveniente usarlas. Pregunta: ¿Qué pasa si usas comillas dobles dentro de comillas dobles o comillas simples dentro de comillas simples?\n",
    "- Ejercicio 3: Muestra cómo insertar caracteres especiales, como el salto de línea (\\n), tabulación (\\t), y comillas dentro de cadenas. Pregunta: ¿Qué efecto tiene cada uno de los caracteres especiales?\n",
    "- Ejercicio 4: Demuestra cómo insertar valores en cadenas utilizando f-strings, .format(), y el operador %. Pregunta: ¿Cuál de estos métodos te parece más sencillo de usar? ¿Por qué?\n",
    "- Ejercicio 5: Emplea la alineación de texto en cadenas para alinear valores a la izquierda, derecha o centrados. Utiliza .format() o f-strings. Pregunta: ¿Cómo puedes cambiar la alineación de las columnas usando los métodos vistos?\n",
    "- Ejercicio 6: Realiza ejemplos de formatos de texto con números decimales, enteros, y porcentajes. Usa f-strings o .format(). Pregunta: ¿Cómo puedes redondear el precio a un número específico de decimales? ¿Cómo puedes mostrar un número como porcentaje?\n",
    "\n",
    "## 4.4 Ejercicios con entrada de datos\n",
    "- Ejercicio 7: Solicita el nombre del usuario y muéstralo en pantalla.\n",
    "- Ejercicio 8: Solicita al usuario dos números, realiza operaciones matemáticas con ellos y muestra el resultado.\n",
    "- Ejercicio 9: Solicita al usuario que introduzca varios números separados por comas, luego convierte esa entrada en una lista de números y muestra la suma de esos números (emplea la función 'sum').\n",
    "- Ejercicio 10: Solicita al usuario una frase y convierte esa frase en una lista de palabras. Luego, muestra la longitud de la lista y la palabra más larga. Emplea la función 'max(palabras, key=len)'.\n",
    "\n",
    "## 4.5 Ejercicios avanzados\n",
    "- Ejercicio 11: Formatear la salida de una tabla. Solicita al usuario varias entradas para crear una tabla de datos. Por ejemplo, nombre, edad y ciudad, y luego alinea las columnas.\n",
    "- Ejercicio 12: Cálculo de una media. Solicita al usuario una lista de números separados por comas, luego calcula y muestra la media de esos números. Emplea las funciones 'sum' y 'len' para calcular la media."
   ]
  },
  {
   "cell_type": "code",
   "execution_count": 13,
   "id": "64dc6fb9",
   "metadata": {},
   "outputs": [
    {
     "name": "stdout",
     "output_type": "stream",
     "text": [
      "7 23.1 4.0\n"
     ]
    }
   ],
   "source": [
    "# Ejercicio 1\n",
    "entero = 10 + 2 - 5\n",
    "decimal = 10.5 * 2.2\n",
    "mix = 10 // 2.5\n",
    "print(entero, decimal, mix)"
   ]
  },
  {
   "cell_type": "code",
   "execution_count": null,
   "id": "e82690f4",
   "metadata": {},
   "outputs": [
    {
     "name": "stdout",
     "output_type": "stream",
     "text": [
      "Esto es una cadena simple\n",
      "Esto es una cadena doble\n",
      " Esto es una \n",
      "cadena\n",
      "triple\n",
      "\n"
     ]
    }
   ],
   "source": [
    "# Ejercicio 2\n",
    "cadena_simple = 'Esto es una cadena simple'\n",
    "cadena_doble = \"Esto es una cadena doble\"\n",
    "cadena_triple = \"\"\"Esto es una \n",
    "cadena\n",
    "triple\n",
    "\"\"\"\n",
    "print(cadena_simple)\n",
    "print(cadena_doble)\n",
    "print(cadena_triple)"
   ]
  },
  {
   "cell_type": "code",
   "execution_count": 15,
   "id": "3247fe68",
   "metadata": {},
   "outputs": [
    {
     "name": "stdout",
     "output_type": "stream",
     "text": [
      "Hola Mundo \n",
      "en dos líneas\n",
      "Hola Mundo \t con tabulación\n",
      "Hola Mundo con \"comillas\"\n"
     ]
    }
   ],
   "source": [
    "# Ejercicio 3\n",
    "print(f'Hola Mundo \\nen dos líneas')\n",
    "print('Hola Mundo \\t con tabulación')\n",
    "print('Hola Mundo con \\\"comillas\\\"')"
   ]
  },
  {
   "cell_type": "code",
   "execution_count": 22,
   "id": "30a416d7",
   "metadata": {},
   "outputs": [
    {
     "name": "stdout",
     "output_type": "stream",
     "text": [
      "Hola, mi nombre es Daniel y tengo 21 años\n",
      "Hola, mi nombre es Daniel y tengo 21\n"
     ]
    }
   ],
   "source": [
    "# Ejercicio 4\n",
    "texto_formateado = 'Hola, mi nombre es {} y tengo {} años'.format('Daniel', 21)\n",
    "print(texto_formateado)\n",
    "print('Hola, mi nombre es %s y tengo %d' %('Daniel', 21))"
   ]
  },
  {
   "cell_type": "code",
   "execution_count": 26,
   "id": "b223c530",
   "metadata": {},
   "outputs": [
    {
     "name": "stdout",
     "output_type": "stream",
     "text": [
      "[      Dani]\n",
      "[Dani      ]\n",
      "[   Dani   ]\n"
     ]
    }
   ],
   "source": [
    "# Ejercicio 5\n",
    "nombre = 'Dani'\n",
    "print(f'[{nombre:>10}]')\n",
    "print(f'[{nombre:<10}]')\n",
    "print(f'[{nombre:^10}]')"
   ]
  },
  {
   "cell_type": "code",
   "execution_count": null,
   "id": "704aa1ef",
   "metadata": {},
   "outputs": [
    {
     "name": "stdout",
     "output_type": "stream",
     "text": [
      "1500000\n",
      "1500000.00000\n",
      "El 3º Quantil es el 75.00%\n"
     ]
    }
   ],
   "source": [
    "# Ejercicio 6\n",
    "print(f'{1500000}')\n",
    "print(f'{1500000:.5f}')\n",
    "print(f'El 3º Quantil es el {0.75:.2%}')"
   ]
  },
  {
   "cell_type": "code",
   "execution_count": 33,
   "id": "f29a1fb4",
   "metadata": {},
   "outputs": [
    {
     "name": "stdout",
     "output_type": "stream",
     "text": [
      "Dani\n"
     ]
    }
   ],
   "source": [
    "# Ejercicio 7\n",
    "print(input('Introduce el nombre: '))"
   ]
  },
  {
   "cell_type": "code",
   "execution_count": null,
   "id": "c3125807",
   "metadata": {},
   "outputs": [
    {
     "name": "stdout",
     "output_type": "stream",
     "text": [
      "La suma de los númmero introducidos es: 12\n"
     ]
    }
   ],
   "source": [
    "# Ejercicio 8\n",
    "a = int(input('Introduce un número: '))\n",
    "b = int(input('Introduce un número: '))\n",
    "print(f'La suma de los númmero introducidos es: {a + b}')"
   ]
  },
  {
   "cell_type": "code",
   "execution_count": null,
   "id": "9e2cfb82",
   "metadata": {},
   "outputs": [
    {
     "name": "stdout",
     "output_type": "stream",
     "text": [
      "2\n"
     ]
    }
   ],
   "source": [
    "# Ejercicio 9\n",
    "numeros = input('Introduce los números separados por ,: ')\n",
    "num = [int(num) for num in numeros if num.isdigit()]\n",
    "print(sum(num))"
   ]
  },
  {
   "cell_type": "code",
   "execution_count": 46,
   "id": "fdc2d042",
   "metadata": {},
   "outputs": [
    {
     "name": "stdout",
     "output_type": "stream",
     "text": [
      "La longitud de la lista es de: 4 y la palabras más larga es: caracola\n"
     ]
    }
   ],
   "source": [
    "# Ejercicio 10\n",
    "frase = input('Introduce una frase: ')\n",
    "palabras = [palabra for palabra in frase.split(\" \")]\n",
    "print(f'La longitud de la lista es de: {len(palabras)} y la palabras más larga es: {max(palabras, key=len)}')"
   ]
  },
  {
   "cell_type": "code",
   "execution_count": 49,
   "id": "0b0c3566",
   "metadata": {},
   "outputs": [
    {
     "name": "stdout",
     "output_type": "stream",
     "text": [
      "{'Nombre': 'Dani', 'Edad': 21, 'Ciudad': 'Malaga'}\n",
      "{'Nombre': 'Pepe', 'Edad': 19, 'Ciudad': 'Madrid'}\n"
     ]
    }
   ],
   "source": [
    "# Ejercicio 11\n",
    "num_registros = int(input('Introduce el números de resgitros que deseas añadir: '))\n",
    "tabla = []\n",
    "for i in range(num_registros):\n",
    "    name = input('Introduce el nombre: ')\n",
    "    edad= int(input('Introduce la edad: '))\n",
    "    ciudad = input('Introduce la ciudad: ')\n",
    "    tabla.append({'Nombre': name, 'Edad':edad, 'Ciudad': ciudad})\n",
    "\n",
    "for i in range(len(tabla)):\n",
    "    print(tabla[i])"
   ]
  },
  {
   "cell_type": "markdown",
   "id": "6c019409",
   "metadata": {},
   "source": [
    "- Ejercicio 12: Cálculo de una media. Solicita al usuario una lista de números separados por comas, luego calcula y muestra la media de esos números. Emplea las funciones 'sum' y 'len' para calcular la media."
   ]
  },
  {
   "cell_type": "code",
   "execution_count": null,
   "id": "55eb12e7",
   "metadata": {},
   "outputs": [
    {
     "name": "stdout",
     "output_type": "stream",
     "text": [
      "La media es: 6\n"
     ]
    }
   ],
   "source": [
    "# Ejercicio 12\n",
    "lista_num = input('Introduce números separados por comas: ')\n",
    "num = [int(num) for num in lista_num.split(\",\")]\n",
    "media = 0\n",
    "if len(lista_num) > 0:\n",
    "    media = sum(num)//len(num)\n",
    "    print(f'La media es: {media}')\n",
    "else:\n",
    "    print('No has introducido ningún número')\n",
    "    media = 0"
   ]
  },
  {
   "cell_type": "code",
   "execution_count": 59,
   "id": "9a90914c",
   "metadata": {},
   "outputs": [
    {
     "name": "stdout",
     "output_type": "stream",
     "text": [
      "La media es: 2\n"
     ]
    }
   ],
   "source": [
    "# Otro caso de solución del ejercicio 12\n",
    "list_num = input('Introduce números seprados por coma: ')\n",
    "lista_enteros = list(map(int, list_num.split(\",\")))\n",
    "media = 0\n",
    "if len(lista_enteros) > 0:\n",
    "    media = sum(lista_enteros)//len(lista_enteros)\n",
    "    print(f'La media es: {media}')\n",
    "else:\n",
    "    print('No has introducido ningún número')\n",
    "    media = 0"
   ]
  }
 ],
 "metadata": {
  "kernelspec": {
   "display_name": ".venv",
   "language": "python",
   "name": "python3"
  },
  "language_info": {
   "codemirror_mode": {
    "name": "ipython",
    "version": 3
   },
   "file_extension": ".py",
   "mimetype": "text/x-python",
   "name": "python",
   "nbconvert_exporter": "python",
   "pygments_lexer": "ipython3",
   "version": "3.13.7"
  }
 },
 "nbformat": 4,
 "nbformat_minor": 5
}
